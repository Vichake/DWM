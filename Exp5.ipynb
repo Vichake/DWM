import numpy as np
import pandas as pd
from mlxtend.frequent_patterns import apriori, association_rules

data = {'Milk': [1, 0, 1, 1, 0],
        'Bread': [1, 1, 1, 0, 1],
        'Butter': [0, 1, 1, 1, 1],
        'Eggs': [1, 1, 0, 1, 0],
        'Cheese': [0, 1, 1, 1, 1]}

df = pd.DataFrame(data)

# Convert integer values to boolean (0 -> False, 1 -> True)
df = df.astype(bool)

print(df)


# Apply Apriori algorithm with min_support=0.6 (60%)
frequent_itemsets = apriori(df, min_support=0.6, use_colnames=True)

print("Frequent Itemsets:\n", frequent_itemsets)


# Generate association rules with min_confidence=0.7 (70%)
rules = association_rules(frequent_itemsets, metric="confidence", min_threshold=0.7)

print("Association Rules:\n", rules[['antecedents', 'consequents', 'support', 'confidence', 'lift']])
